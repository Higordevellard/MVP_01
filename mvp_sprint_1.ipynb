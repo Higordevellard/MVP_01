{
  "nbformat": 4,
  "nbformat_minor": 0,
  "metadata": {
    "colab": {
      "provenance": [],
      "toc_visible": true,
      "authorship_tag": "ABX9TyMreVulCPCPuJWQGz4BiI6c",
      "include_colab_link": true
    },
    "kernelspec": {
      "name": "python3",
      "display_name": "Python 3"
    },
    "language_info": {
      "name": "python"
    }
  },
  "cells": [
    {
      "cell_type": "markdown",
      "metadata": {
        "id": "view-in-github",
        "colab_type": "text"
      },
      "source": [
        "<a href=\"https://colab.research.google.com/github/higordevellard/MVP_01/blob/main/mvp_sprint_1.ipynb\" target=\"_parent\"><img src=\"https://colab.research.google.com/assets/colab-badge.svg\" alt=\"Open In Colab\"/></a>"
      ]
    },
    {
      "cell_type": "markdown",
      "source": [
        "# MVP - Disciplina: Sprint I: Análise de Dados e Boas Práticas\n",
        "## Aluno: Higor Morais Devellard"
      ],
      "metadata": {
        "id": "19x_v0vwHFTk"
      }
    },
    {
      "cell_type": "code",
      "execution_count": 1,
      "metadata": {
        "id": "F071n_KTF-DY"
      },
      "outputs": [],
      "source": [
        "# Configuração para não exibir os warnings dos pacotes que serão selecionados\n",
        "import warnings\n",
        "warnings.filterwarnings(\"ignore\")\n",
        "\n",
        "# Importação de pacotes\n",
        "import pandas as pd\n",
        "import numpy as np\n",
        "import matplotlib.pyplot as plt\n",
        "import seaborn as sns\n",
        "from matplotlib import cm"
      ]
    },
    {
      "cell_type": "markdown",
      "source": [
        "## Carga do Dataset"
      ],
      "metadata": {
        "id": "8gp1rXqUIF2d"
      }
    },
    {
      "cell_type": "markdown",
      "source": [
        "Sendo um egenheiro eletricista, estou escolhendo um dataset que detalha o consumo de energia dos Estados Unidos entre os anos de 2001 - 2022. O Estudo será importante para conhecer melhor sobre a matriz energética deste país e o que esperar para os próximos anos."
      ],
      "metadata": {
        "id": "rl3qwzyhMic_"
      }
    },
    {
      "cell_type": "code",
      "source": [
        "# Localicazão do dataset\n",
        "\n",
        "url_1 = 'https://raw.githubusercontent.com/higordevellard/MVP_01/main/consumo_energia_eua_parte1.csv'\n",
        "url_2 = 'https://raw.githubusercontent.com/higordevellard/MVP_01/main/consumo_energia_eua_parte2.csv'\n",
        "\n",
        "# labels dos atributos do dataset\n",
        "labels_atributos = ['ID', 'Ano', 'Mês', 'Estado', 'Tipo_de_produção', 'Fonte_de_Energia', 'Geração(MWh)']\n",
        "\n",
        "# Lê o arquivo \n",
        "dataset_p1 = pd.read_csv(url_1, names=labels_atributos, header=0, delimiter=',')\n",
        "dataset_p2 = pd.read_csv(url_2, names=labels_atributos, header=0, delimiter=',')"
      ],
      "metadata": {
        "id": "QIyc8BjgIK9c"
      },
      "execution_count": 2,
      "outputs": []
    },
    {
      "cell_type": "markdown",
      "source": [
        "A tabela foi importada pelo kaggle no seguinte endereço: https://www.kaggle.com/datasets/kevinmorgado/us-energy-generation-2001-2022 , onde a mesma foi elaborada por dados fornecidos pelo governo norte americano no endereço https://www.eia.gov/electricity/\n",
        "\n",
        "Devido à limitação do kaggle para carregamento de datasets, foi considerado a divisão do dataset em duas partes."
      ],
      "metadata": {
        "id": "W7stjomfIa5U"
      }
    },
    {
      "cell_type": "markdown",
      "source": [
        "## Análise Exploratória de Dados"
      ],
      "metadata": {
        "id": "hbnh-tLnIgiz"
      }
    },
    {
      "cell_type": "markdown",
      "source": [
        "###Informações Gerais e Estatísticas Descritivas"
      ],
      "metadata": {
        "id": "1RELcPOIInem"
      }
    },
    {
      "cell_type": "code",
      "source": [
        "#Usando o método concat para concatenar as duas tabelas carregadas\n",
        "dataset = pd.concat([dataset_p1, dataset_p2])"
      ],
      "metadata": {
        "id": "lyDC52UxL3M5"
      },
      "execution_count": 3,
      "outputs": []
    },
    {
      "cell_type": "code",
      "source": [
        "# Mostra as dimensões do dataset (Quantidade de linhas, quantidade de colunas)\n",
        "dataset.shape"
      ],
      "metadata": {
        "colab": {
          "base_uri": "https://localhost:8080/"
        },
        "id": "4Wajj4xHIpyL",
        "outputId": "d7a5250c-40ef-478f-f1fd-696379a972bc"
      },
      "execution_count": 4,
      "outputs": [
        {
          "output_type": "execute_result",
          "data": {
            "text/plain": [
              "(496773, 7)"
            ]
          },
          "metadata": {},
          "execution_count": 4
        }
      ]
    },
    {
      "cell_type": "code",
      "source": [
        "# Mostra as informações do dataset\n",
        "dataset.info()"
      ],
      "metadata": {
        "colab": {
          "base_uri": "https://localhost:8080/"
        },
        "id": "bPFUOI7UIzc8",
        "outputId": "0444784b-aa79-4d84-abbf-5cce0e5d391c"
      },
      "execution_count": 5,
      "outputs": [
        {
          "output_type": "stream",
          "name": "stdout",
          "text": [
            "<class 'pandas.core.frame.DataFrame'>\n",
            "Int64Index: 496773 entries, 0 to 246773\n",
            "Data columns (total 7 columns):\n",
            " #   Column            Non-Null Count   Dtype  \n",
            "---  ------            --------------   -----  \n",
            " 0   ID                496773 non-null  int64  \n",
            " 1   Ano               496773 non-null  int64  \n",
            " 2   Mês               496773 non-null  int64  \n",
            " 3   Estado            496773 non-null  object \n",
            " 4   Tipo_de_produção  496773 non-null  object \n",
            " 5   Fonte_de_Energia  496773 non-null  object \n",
            " 6   Geração(MWh)      496773 non-null  float64\n",
            "dtypes: float64(1), int64(3), object(3)\n",
            "memory usage: 30.3+ MB\n"
          ]
        }
      ]
    },
    {
      "cell_type": "markdown",
      "source": [
        "**Observações importantes levantadas após os resultados da função info():** \n",
        "\n",
        "1)Todas as linhas e colunas foram devidamente carregadas.\n",
        "\n",
        "2)Todas as 496773 linhas são não nulas.\n",
        "\n",
        "3) as colunas \"Mês\" e \"Ano\" estão como tipo inteiro, inicialmente não há necessidade de alteração, mas à frente irei criar uma nova coluna tipo data no formado Mês/Ano.\n",
        "\n",
        "4) as colunas 3,4 e 5 estão no formato esperado, assim como a coluna 6 que deverá retornar um valor decimal para a geração de energia. \n"
      ],
      "metadata": {
        "id": "vKUU-nT9NaOA"
      }
    },
    {
      "cell_type": "code",
      "source": [
        "# Mostra as 10 primeiras linhas do dataset\n",
        "dataset.head(10)"
      ],
      "metadata": {
        "colab": {
          "base_uri": "https://localhost:8080/",
          "height": 363
        },
        "id": "P4RT66a3I1v8",
        "outputId": "53e9f7ca-9126-44ed-d0dc-978f2025ac22"
      },
      "execution_count": 6,
      "outputs": [
        {
          "output_type": "execute_result",
          "data": {
            "text/plain": [
              "   ID   Ano  Mês Estado                         Tipo_de_produção  \\\n",
              "0   0  2001    1     AK            Total Electric Power Industry   \n",
              "1   1  2001    1     AK            Total Electric Power Industry   \n",
              "2   2  2001    1     AK            Total Electric Power Industry   \n",
              "3   3  2001    1     AK            Total Electric Power Industry   \n",
              "4   4  2001    1     AK            Total Electric Power Industry   \n",
              "5   5  2001    1     AK            Total Electric Power Industry   \n",
              "6   6  2001    1     AK  Electric Generators, Electric Utilities   \n",
              "7   7  2001    1     AK  Electric Generators, Electric Utilities   \n",
              "8   8  2001    1     AK  Electric Generators, Electric Utilities   \n",
              "9   9  2001    1     AK  Electric Generators, Electric Utilities   \n",
              "\n",
              "             Fonte_de_Energia  Geração(MWh)  \n",
              "0                        Coal       46903.0  \n",
              "1                   Petroleum       71085.0  \n",
              "2                 Natural Gas      367521.0  \n",
              "3  Hydroelectric Conventional      104549.0  \n",
              "4                        Wind          87.0  \n",
              "5                       Total      590145.0  \n",
              "6                        Coal       18410.0  \n",
              "7                   Petroleum       64883.0  \n",
              "8                 Natural Gas      305277.0  \n",
              "9  Hydroelectric Conventional      104549.0  "
            ],
            "text/html": [
              "\n",
              "  <div id=\"df-e39b6acf-206b-4565-8f5d-fb68a8027a1f\">\n",
              "    <div class=\"colab-df-container\">\n",
              "      <div>\n",
              "<style scoped>\n",
              "    .dataframe tbody tr th:only-of-type {\n",
              "        vertical-align: middle;\n",
              "    }\n",
              "\n",
              "    .dataframe tbody tr th {\n",
              "        vertical-align: top;\n",
              "    }\n",
              "\n",
              "    .dataframe thead th {\n",
              "        text-align: right;\n",
              "    }\n",
              "</style>\n",
              "<table border=\"1\" class=\"dataframe\">\n",
              "  <thead>\n",
              "    <tr style=\"text-align: right;\">\n",
              "      <th></th>\n",
              "      <th>ID</th>\n",
              "      <th>Ano</th>\n",
              "      <th>Mês</th>\n",
              "      <th>Estado</th>\n",
              "      <th>Tipo_de_produção</th>\n",
              "      <th>Fonte_de_Energia</th>\n",
              "      <th>Geração(MWh)</th>\n",
              "    </tr>\n",
              "  </thead>\n",
              "  <tbody>\n",
              "    <tr>\n",
              "      <th>0</th>\n",
              "      <td>0</td>\n",
              "      <td>2001</td>\n",
              "      <td>1</td>\n",
              "      <td>AK</td>\n",
              "      <td>Total Electric Power Industry</td>\n",
              "      <td>Coal</td>\n",
              "      <td>46903.0</td>\n",
              "    </tr>\n",
              "    <tr>\n",
              "      <th>1</th>\n",
              "      <td>1</td>\n",
              "      <td>2001</td>\n",
              "      <td>1</td>\n",
              "      <td>AK</td>\n",
              "      <td>Total Electric Power Industry</td>\n",
              "      <td>Petroleum</td>\n",
              "      <td>71085.0</td>\n",
              "    </tr>\n",
              "    <tr>\n",
              "      <th>2</th>\n",
              "      <td>2</td>\n",
              "      <td>2001</td>\n",
              "      <td>1</td>\n",
              "      <td>AK</td>\n",
              "      <td>Total Electric Power Industry</td>\n",
              "      <td>Natural Gas</td>\n",
              "      <td>367521.0</td>\n",
              "    </tr>\n",
              "    <tr>\n",
              "      <th>3</th>\n",
              "      <td>3</td>\n",
              "      <td>2001</td>\n",
              "      <td>1</td>\n",
              "      <td>AK</td>\n",
              "      <td>Total Electric Power Industry</td>\n",
              "      <td>Hydroelectric Conventional</td>\n",
              "      <td>104549.0</td>\n",
              "    </tr>\n",
              "    <tr>\n",
              "      <th>4</th>\n",
              "      <td>4</td>\n",
              "      <td>2001</td>\n",
              "      <td>1</td>\n",
              "      <td>AK</td>\n",
              "      <td>Total Electric Power Industry</td>\n",
              "      <td>Wind</td>\n",
              "      <td>87.0</td>\n",
              "    </tr>\n",
              "    <tr>\n",
              "      <th>5</th>\n",
              "      <td>5</td>\n",
              "      <td>2001</td>\n",
              "      <td>1</td>\n",
              "      <td>AK</td>\n",
              "      <td>Total Electric Power Industry</td>\n",
              "      <td>Total</td>\n",
              "      <td>590145.0</td>\n",
              "    </tr>\n",
              "    <tr>\n",
              "      <th>6</th>\n",
              "      <td>6</td>\n",
              "      <td>2001</td>\n",
              "      <td>1</td>\n",
              "      <td>AK</td>\n",
              "      <td>Electric Generators, Electric Utilities</td>\n",
              "      <td>Coal</td>\n",
              "      <td>18410.0</td>\n",
              "    </tr>\n",
              "    <tr>\n",
              "      <th>7</th>\n",
              "      <td>7</td>\n",
              "      <td>2001</td>\n",
              "      <td>1</td>\n",
              "      <td>AK</td>\n",
              "      <td>Electric Generators, Electric Utilities</td>\n",
              "      <td>Petroleum</td>\n",
              "      <td>64883.0</td>\n",
              "    </tr>\n",
              "    <tr>\n",
              "      <th>8</th>\n",
              "      <td>8</td>\n",
              "      <td>2001</td>\n",
              "      <td>1</td>\n",
              "      <td>AK</td>\n",
              "      <td>Electric Generators, Electric Utilities</td>\n",
              "      <td>Natural Gas</td>\n",
              "      <td>305277.0</td>\n",
              "    </tr>\n",
              "    <tr>\n",
              "      <th>9</th>\n",
              "      <td>9</td>\n",
              "      <td>2001</td>\n",
              "      <td>1</td>\n",
              "      <td>AK</td>\n",
              "      <td>Electric Generators, Electric Utilities</td>\n",
              "      <td>Hydroelectric Conventional</td>\n",
              "      <td>104549.0</td>\n",
              "    </tr>\n",
              "  </tbody>\n",
              "</table>\n",
              "</div>\n",
              "      <button class=\"colab-df-convert\" onclick=\"convertToInteractive('df-e39b6acf-206b-4565-8f5d-fb68a8027a1f')\"\n",
              "              title=\"Convert this dataframe to an interactive table.\"\n",
              "              style=\"display:none;\">\n",
              "        \n",
              "  <svg xmlns=\"http://www.w3.org/2000/svg\" height=\"24px\"viewBox=\"0 0 24 24\"\n",
              "       width=\"24px\">\n",
              "    <path d=\"M0 0h24v24H0V0z\" fill=\"none\"/>\n",
              "    <path d=\"M18.56 5.44l.94 2.06.94-2.06 2.06-.94-2.06-.94-.94-2.06-.94 2.06-2.06.94zm-11 1L8.5 8.5l.94-2.06 2.06-.94-2.06-.94L8.5 2.5l-.94 2.06-2.06.94zm10 10l.94 2.06.94-2.06 2.06-.94-2.06-.94-.94-2.06-.94 2.06-2.06.94z\"/><path d=\"M17.41 7.96l-1.37-1.37c-.4-.4-.92-.59-1.43-.59-.52 0-1.04.2-1.43.59L10.3 9.45l-7.72 7.72c-.78.78-.78 2.05 0 2.83L4 21.41c.39.39.9.59 1.41.59.51 0 1.02-.2 1.41-.59l7.78-7.78 2.81-2.81c.8-.78.8-2.07 0-2.86zM5.41 20L4 18.59l7.72-7.72 1.47 1.35L5.41 20z\"/>\n",
              "  </svg>\n",
              "      </button>\n",
              "      \n",
              "  <style>\n",
              "    .colab-df-container {\n",
              "      display:flex;\n",
              "      flex-wrap:wrap;\n",
              "      gap: 12px;\n",
              "    }\n",
              "\n",
              "    .colab-df-convert {\n",
              "      background-color: #E8F0FE;\n",
              "      border: none;\n",
              "      border-radius: 50%;\n",
              "      cursor: pointer;\n",
              "      display: none;\n",
              "      fill: #1967D2;\n",
              "      height: 32px;\n",
              "      padding: 0 0 0 0;\n",
              "      width: 32px;\n",
              "    }\n",
              "\n",
              "    .colab-df-convert:hover {\n",
              "      background-color: #E2EBFA;\n",
              "      box-shadow: 0px 1px 2px rgba(60, 64, 67, 0.3), 0px 1px 3px 1px rgba(60, 64, 67, 0.15);\n",
              "      fill: #174EA6;\n",
              "    }\n",
              "\n",
              "    [theme=dark] .colab-df-convert {\n",
              "      background-color: #3B4455;\n",
              "      fill: #D2E3FC;\n",
              "    }\n",
              "\n",
              "    [theme=dark] .colab-df-convert:hover {\n",
              "      background-color: #434B5C;\n",
              "      box-shadow: 0px 1px 3px 1px rgba(0, 0, 0, 0.15);\n",
              "      filter: drop-shadow(0px 1px 2px rgba(0, 0, 0, 0.3));\n",
              "      fill: #FFFFFF;\n",
              "    }\n",
              "  </style>\n",
              "\n",
              "      <script>\n",
              "        const buttonEl =\n",
              "          document.querySelector('#df-e39b6acf-206b-4565-8f5d-fb68a8027a1f button.colab-df-convert');\n",
              "        buttonEl.style.display =\n",
              "          google.colab.kernel.accessAllowed ? 'block' : 'none';\n",
              "\n",
              "        async function convertToInteractive(key) {\n",
              "          const element = document.querySelector('#df-e39b6acf-206b-4565-8f5d-fb68a8027a1f');\n",
              "          const dataTable =\n",
              "            await google.colab.kernel.invokeFunction('convertToInteractive',\n",
              "                                                     [key], {});\n",
              "          if (!dataTable) return;\n",
              "\n",
              "          const docLinkHtml = 'Like what you see? Visit the ' +\n",
              "            '<a target=\"_blank\" href=https://colab.research.google.com/notebooks/data_table.ipynb>data table notebook</a>'\n",
              "            + ' to learn more about interactive tables.';\n",
              "          element.innerHTML = '';\n",
              "          dataTable['output_type'] = 'display_data';\n",
              "          await google.colab.output.renderOutput(dataTable, element);\n",
              "          const docLink = document.createElement('div');\n",
              "          docLink.innerHTML = docLinkHtml;\n",
              "          element.appendChild(docLink);\n",
              "        }\n",
              "      </script>\n",
              "    </div>\n",
              "  </div>\n",
              "  "
            ]
          },
          "metadata": {},
          "execution_count": 6
        }
      ]
    },
    {
      "cell_type": "code",
      "source": [
        "# Alterando os valores de geração de energia de Megawatt.hora para Terawatt.hora para melhor visualização dos gráficos.\n",
        "dataset['Geração(TWh)'] = dataset['Geração(MWh)'] / (10 ** 6)"
      ],
      "metadata": {
        "id": "RKoIKTsNQlsN"
      },
      "execution_count": 7,
      "outputs": []
    },
    {
      "cell_type": "markdown",
      "source": [
        "Obs: \n",
        "\n",
        "1 kWh = 1.000 Wh\n",
        "\n",
        "1 MWh = 1.000.000 Wh\n",
        "\n",
        "1 TWh = 1.000.000.000.000 Wh\n"
      ],
      "metadata": {
        "id": "qBKQjpA4UgAi"
      }
    },
    {
      "cell_type": "code",
      "source": [
        "# Como o dataset escolhido já vem com o índice, optei por utilizar o comando .drop da biblioteca pandas para ocultar a primeira coluna\n",
        "dataset_1 = dataset.drop(['ID', 'Geração(MWh)'], axis=1)"
      ],
      "metadata": {
        "id": "hZSFoGj7Q7RM"
      },
      "execution_count": 8,
      "outputs": []
    },
    {
      "cell_type": "code",
      "source": [
        "dataset_1.head(10)"
      ],
      "metadata": {
        "colab": {
          "base_uri": "https://localhost:8080/",
          "height": 363
        },
        "id": "fc3okUbqR3Ys",
        "outputId": "a03cb658-2232-42f5-bb67-4a9b5dcd5a13"
      },
      "execution_count": 9,
      "outputs": [
        {
          "output_type": "execute_result",
          "data": {
            "text/plain": [
              "    Ano  Mês Estado                         Tipo_de_produção  \\\n",
              "0  2001    1     AK            Total Electric Power Industry   \n",
              "1  2001    1     AK            Total Electric Power Industry   \n",
              "2  2001    1     AK            Total Electric Power Industry   \n",
              "3  2001    1     AK            Total Electric Power Industry   \n",
              "4  2001    1     AK            Total Electric Power Industry   \n",
              "5  2001    1     AK            Total Electric Power Industry   \n",
              "6  2001    1     AK  Electric Generators, Electric Utilities   \n",
              "7  2001    1     AK  Electric Generators, Electric Utilities   \n",
              "8  2001    1     AK  Electric Generators, Electric Utilities   \n",
              "9  2001    1     AK  Electric Generators, Electric Utilities   \n",
              "\n",
              "             Fonte_de_Energia  Geração(TWh)  \n",
              "0                        Coal      0.046903  \n",
              "1                   Petroleum      0.071085  \n",
              "2                 Natural Gas      0.367521  \n",
              "3  Hydroelectric Conventional      0.104549  \n",
              "4                        Wind      0.000087  \n",
              "5                       Total      0.590145  \n",
              "6                        Coal      0.018410  \n",
              "7                   Petroleum      0.064883  \n",
              "8                 Natural Gas      0.305277  \n",
              "9  Hydroelectric Conventional      0.104549  "
            ],
            "text/html": [
              "\n",
              "  <div id=\"df-c79648aa-2245-4556-b76e-8056b94680e4\">\n",
              "    <div class=\"colab-df-container\">\n",
              "      <div>\n",
              "<style scoped>\n",
              "    .dataframe tbody tr th:only-of-type {\n",
              "        vertical-align: middle;\n",
              "    }\n",
              "\n",
              "    .dataframe tbody tr th {\n",
              "        vertical-align: top;\n",
              "    }\n",
              "\n",
              "    .dataframe thead th {\n",
              "        text-align: right;\n",
              "    }\n",
              "</style>\n",
              "<table border=\"1\" class=\"dataframe\">\n",
              "  <thead>\n",
              "    <tr style=\"text-align: right;\">\n",
              "      <th></th>\n",
              "      <th>Ano</th>\n",
              "      <th>Mês</th>\n",
              "      <th>Estado</th>\n",
              "      <th>Tipo_de_produção</th>\n",
              "      <th>Fonte_de_Energia</th>\n",
              "      <th>Geração(TWh)</th>\n",
              "    </tr>\n",
              "  </thead>\n",
              "  <tbody>\n",
              "    <tr>\n",
              "      <th>0</th>\n",
              "      <td>2001</td>\n",
              "      <td>1</td>\n",
              "      <td>AK</td>\n",
              "      <td>Total Electric Power Industry</td>\n",
              "      <td>Coal</td>\n",
              "      <td>0.046903</td>\n",
              "    </tr>\n",
              "    <tr>\n",
              "      <th>1</th>\n",
              "      <td>2001</td>\n",
              "      <td>1</td>\n",
              "      <td>AK</td>\n",
              "      <td>Total Electric Power Industry</td>\n",
              "      <td>Petroleum</td>\n",
              "      <td>0.071085</td>\n",
              "    </tr>\n",
              "    <tr>\n",
              "      <th>2</th>\n",
              "      <td>2001</td>\n",
              "      <td>1</td>\n",
              "      <td>AK</td>\n",
              "      <td>Total Electric Power Industry</td>\n",
              "      <td>Natural Gas</td>\n",
              "      <td>0.367521</td>\n",
              "    </tr>\n",
              "    <tr>\n",
              "      <th>3</th>\n",
              "      <td>2001</td>\n",
              "      <td>1</td>\n",
              "      <td>AK</td>\n",
              "      <td>Total Electric Power Industry</td>\n",
              "      <td>Hydroelectric Conventional</td>\n",
              "      <td>0.104549</td>\n",
              "    </tr>\n",
              "    <tr>\n",
              "      <th>4</th>\n",
              "      <td>2001</td>\n",
              "      <td>1</td>\n",
              "      <td>AK</td>\n",
              "      <td>Total Electric Power Industry</td>\n",
              "      <td>Wind</td>\n",
              "      <td>0.000087</td>\n",
              "    </tr>\n",
              "    <tr>\n",
              "      <th>5</th>\n",
              "      <td>2001</td>\n",
              "      <td>1</td>\n",
              "      <td>AK</td>\n",
              "      <td>Total Electric Power Industry</td>\n",
              "      <td>Total</td>\n",
              "      <td>0.590145</td>\n",
              "    </tr>\n",
              "    <tr>\n",
              "      <th>6</th>\n",
              "      <td>2001</td>\n",
              "      <td>1</td>\n",
              "      <td>AK</td>\n",
              "      <td>Electric Generators, Electric Utilities</td>\n",
              "      <td>Coal</td>\n",
              "      <td>0.018410</td>\n",
              "    </tr>\n",
              "    <tr>\n",
              "      <th>7</th>\n",
              "      <td>2001</td>\n",
              "      <td>1</td>\n",
              "      <td>AK</td>\n",
              "      <td>Electric Generators, Electric Utilities</td>\n",
              "      <td>Petroleum</td>\n",
              "      <td>0.064883</td>\n",
              "    </tr>\n",
              "    <tr>\n",
              "      <th>8</th>\n",
              "      <td>2001</td>\n",
              "      <td>1</td>\n",
              "      <td>AK</td>\n",
              "      <td>Electric Generators, Electric Utilities</td>\n",
              "      <td>Natural Gas</td>\n",
              "      <td>0.305277</td>\n",
              "    </tr>\n",
              "    <tr>\n",
              "      <th>9</th>\n",
              "      <td>2001</td>\n",
              "      <td>1</td>\n",
              "      <td>AK</td>\n",
              "      <td>Electric Generators, Electric Utilities</td>\n",
              "      <td>Hydroelectric Conventional</td>\n",
              "      <td>0.104549</td>\n",
              "    </tr>\n",
              "  </tbody>\n",
              "</table>\n",
              "</div>\n",
              "      <button class=\"colab-df-convert\" onclick=\"convertToInteractive('df-c79648aa-2245-4556-b76e-8056b94680e4')\"\n",
              "              title=\"Convert this dataframe to an interactive table.\"\n",
              "              style=\"display:none;\">\n",
              "        \n",
              "  <svg xmlns=\"http://www.w3.org/2000/svg\" height=\"24px\"viewBox=\"0 0 24 24\"\n",
              "       width=\"24px\">\n",
              "    <path d=\"M0 0h24v24H0V0z\" fill=\"none\"/>\n",
              "    <path d=\"M18.56 5.44l.94 2.06.94-2.06 2.06-.94-2.06-.94-.94-2.06-.94 2.06-2.06.94zm-11 1L8.5 8.5l.94-2.06 2.06-.94-2.06-.94L8.5 2.5l-.94 2.06-2.06.94zm10 10l.94 2.06.94-2.06 2.06-.94-2.06-.94-.94-2.06-.94 2.06-2.06.94z\"/><path d=\"M17.41 7.96l-1.37-1.37c-.4-.4-.92-.59-1.43-.59-.52 0-1.04.2-1.43.59L10.3 9.45l-7.72 7.72c-.78.78-.78 2.05 0 2.83L4 21.41c.39.39.9.59 1.41.59.51 0 1.02-.2 1.41-.59l7.78-7.78 2.81-2.81c.8-.78.8-2.07 0-2.86zM5.41 20L4 18.59l7.72-7.72 1.47 1.35L5.41 20z\"/>\n",
              "  </svg>\n",
              "      </button>\n",
              "      \n",
              "  <style>\n",
              "    .colab-df-container {\n",
              "      display:flex;\n",
              "      flex-wrap:wrap;\n",
              "      gap: 12px;\n",
              "    }\n",
              "\n",
              "    .colab-df-convert {\n",
              "      background-color: #E8F0FE;\n",
              "      border: none;\n",
              "      border-radius: 50%;\n",
              "      cursor: pointer;\n",
              "      display: none;\n",
              "      fill: #1967D2;\n",
              "      height: 32px;\n",
              "      padding: 0 0 0 0;\n",
              "      width: 32px;\n",
              "    }\n",
              "\n",
              "    .colab-df-convert:hover {\n",
              "      background-color: #E2EBFA;\n",
              "      box-shadow: 0px 1px 2px rgba(60, 64, 67, 0.3), 0px 1px 3px 1px rgba(60, 64, 67, 0.15);\n",
              "      fill: #174EA6;\n",
              "    }\n",
              "\n",
              "    [theme=dark] .colab-df-convert {\n",
              "      background-color: #3B4455;\n",
              "      fill: #D2E3FC;\n",
              "    }\n",
              "\n",
              "    [theme=dark] .colab-df-convert:hover {\n",
              "      background-color: #434B5C;\n",
              "      box-shadow: 0px 1px 3px 1px rgba(0, 0, 0, 0.15);\n",
              "      filter: drop-shadow(0px 1px 2px rgba(0, 0, 0, 0.3));\n",
              "      fill: #FFFFFF;\n",
              "    }\n",
              "  </style>\n",
              "\n",
              "      <script>\n",
              "        const buttonEl =\n",
              "          document.querySelector('#df-c79648aa-2245-4556-b76e-8056b94680e4 button.colab-df-convert');\n",
              "        buttonEl.style.display =\n",
              "          google.colab.kernel.accessAllowed ? 'block' : 'none';\n",
              "\n",
              "        async function convertToInteractive(key) {\n",
              "          const element = document.querySelector('#df-c79648aa-2245-4556-b76e-8056b94680e4');\n",
              "          const dataTable =\n",
              "            await google.colab.kernel.invokeFunction('convertToInteractive',\n",
              "                                                     [key], {});\n",
              "          if (!dataTable) return;\n",
              "\n",
              "          const docLinkHtml = 'Like what you see? Visit the ' +\n",
              "            '<a target=\"_blank\" href=https://colab.research.google.com/notebooks/data_table.ipynb>data table notebook</a>'\n",
              "            + ' to learn more about interactive tables.';\n",
              "          element.innerHTML = '';\n",
              "          dataTable['output_type'] = 'display_data';\n",
              "          await google.colab.output.renderOutput(dataTable, element);\n",
              "          const docLink = document.createElement('div');\n",
              "          docLink.innerHTML = docLinkHtml;\n",
              "          element.appendChild(docLink);\n",
              "        }\n",
              "      </script>\n",
              "    </div>\n",
              "  </div>\n",
              "  "
            ]
          },
          "metadata": {},
          "execution_count": 9
        }
      ]
    },
    {
      "cell_type": "code",
      "source": [
        "#Criando uma nova coluna concatenando as informações de Mês e Ano\n",
        "dataset_1['Mês/Ano'] = dataset_1['Mês'].astype(str) + '/' + dataset_1['Ano'].astype(str)"
      ],
      "metadata": {
        "id": "pHKqwu8oSS33"
      },
      "execution_count": 11,
      "outputs": []
    },
    {
      "cell_type": "code",
      "source": [
        "#Formatando a nova coluna como data\n",
        "dataset_1['Mês/Ano'] = pd.to_datetime(dataset_1['Mês/Ano'], format='%m/%Y')"
      ],
      "metadata": {
        "id": "w8RnhrupScwd"
      },
      "execution_count": 12,
      "outputs": []
    },
    {
      "cell_type": "code",
      "source": [
        "dataset_1.head()"
      ],
      "metadata": {
        "colab": {
          "base_uri": "https://localhost:8080/",
          "height": 206
        },
        "id": "-DuiRYivSgUt",
        "outputId": "7aea23a6-8c8f-4213-84b5-3bb6efa2d125"
      },
      "execution_count": 13,
      "outputs": [
        {
          "output_type": "execute_result",
          "data": {
            "text/plain": [
              "    Ano  Mês Estado               Tipo_de_produção  \\\n",
              "0  2001    1     AK  Total Electric Power Industry   \n",
              "1  2001    1     AK  Total Electric Power Industry   \n",
              "2  2001    1     AK  Total Electric Power Industry   \n",
              "3  2001    1     AK  Total Electric Power Industry   \n",
              "4  2001    1     AK  Total Electric Power Industry   \n",
              "\n",
              "             Fonte_de_Energia  Geração(TWh)    Mês/Ano  \n",
              "0                        Coal      0.046903 2001-01-01  \n",
              "1                   Petroleum      0.071085 2001-01-01  \n",
              "2                 Natural Gas      0.367521 2001-01-01  \n",
              "3  Hydroelectric Conventional      0.104549 2001-01-01  \n",
              "4                        Wind      0.000087 2001-01-01  "
            ],
            "text/html": [
              "\n",
              "  <div id=\"df-6cf3a2fc-2e17-412b-9663-101dab170159\">\n",
              "    <div class=\"colab-df-container\">\n",
              "      <div>\n",
              "<style scoped>\n",
              "    .dataframe tbody tr th:only-of-type {\n",
              "        vertical-align: middle;\n",
              "    }\n",
              "\n",
              "    .dataframe tbody tr th {\n",
              "        vertical-align: top;\n",
              "    }\n",
              "\n",
              "    .dataframe thead th {\n",
              "        text-align: right;\n",
              "    }\n",
              "</style>\n",
              "<table border=\"1\" class=\"dataframe\">\n",
              "  <thead>\n",
              "    <tr style=\"text-align: right;\">\n",
              "      <th></th>\n",
              "      <th>Ano</th>\n",
              "      <th>Mês</th>\n",
              "      <th>Estado</th>\n",
              "      <th>Tipo_de_produção</th>\n",
              "      <th>Fonte_de_Energia</th>\n",
              "      <th>Geração(TWh)</th>\n",
              "      <th>Mês/Ano</th>\n",
              "    </tr>\n",
              "  </thead>\n",
              "  <tbody>\n",
              "    <tr>\n",
              "      <th>0</th>\n",
              "      <td>2001</td>\n",
              "      <td>1</td>\n",
              "      <td>AK</td>\n",
              "      <td>Total Electric Power Industry</td>\n",
              "      <td>Coal</td>\n",
              "      <td>0.046903</td>\n",
              "      <td>2001-01-01</td>\n",
              "    </tr>\n",
              "    <tr>\n",
              "      <th>1</th>\n",
              "      <td>2001</td>\n",
              "      <td>1</td>\n",
              "      <td>AK</td>\n",
              "      <td>Total Electric Power Industry</td>\n",
              "      <td>Petroleum</td>\n",
              "      <td>0.071085</td>\n",
              "      <td>2001-01-01</td>\n",
              "    </tr>\n",
              "    <tr>\n",
              "      <th>2</th>\n",
              "      <td>2001</td>\n",
              "      <td>1</td>\n",
              "      <td>AK</td>\n",
              "      <td>Total Electric Power Industry</td>\n",
              "      <td>Natural Gas</td>\n",
              "      <td>0.367521</td>\n",
              "      <td>2001-01-01</td>\n",
              "    </tr>\n",
              "    <tr>\n",
              "      <th>3</th>\n",
              "      <td>2001</td>\n",
              "      <td>1</td>\n",
              "      <td>AK</td>\n",
              "      <td>Total Electric Power Industry</td>\n",
              "      <td>Hydroelectric Conventional</td>\n",
              "      <td>0.104549</td>\n",
              "      <td>2001-01-01</td>\n",
              "    </tr>\n",
              "    <tr>\n",
              "      <th>4</th>\n",
              "      <td>2001</td>\n",
              "      <td>1</td>\n",
              "      <td>AK</td>\n",
              "      <td>Total Electric Power Industry</td>\n",
              "      <td>Wind</td>\n",
              "      <td>0.000087</td>\n",
              "      <td>2001-01-01</td>\n",
              "    </tr>\n",
              "  </tbody>\n",
              "</table>\n",
              "</div>\n",
              "      <button class=\"colab-df-convert\" onclick=\"convertToInteractive('df-6cf3a2fc-2e17-412b-9663-101dab170159')\"\n",
              "              title=\"Convert this dataframe to an interactive table.\"\n",
              "              style=\"display:none;\">\n",
              "        \n",
              "  <svg xmlns=\"http://www.w3.org/2000/svg\" height=\"24px\"viewBox=\"0 0 24 24\"\n",
              "       width=\"24px\">\n",
              "    <path d=\"M0 0h24v24H0V0z\" fill=\"none\"/>\n",
              "    <path d=\"M18.56 5.44l.94 2.06.94-2.06 2.06-.94-2.06-.94-.94-2.06-.94 2.06-2.06.94zm-11 1L8.5 8.5l.94-2.06 2.06-.94-2.06-.94L8.5 2.5l-.94 2.06-2.06.94zm10 10l.94 2.06.94-2.06 2.06-.94-2.06-.94-.94-2.06-.94 2.06-2.06.94z\"/><path d=\"M17.41 7.96l-1.37-1.37c-.4-.4-.92-.59-1.43-.59-.52 0-1.04.2-1.43.59L10.3 9.45l-7.72 7.72c-.78.78-.78 2.05 0 2.83L4 21.41c.39.39.9.59 1.41.59.51 0 1.02-.2 1.41-.59l7.78-7.78 2.81-2.81c.8-.78.8-2.07 0-2.86zM5.41 20L4 18.59l7.72-7.72 1.47 1.35L5.41 20z\"/>\n",
              "  </svg>\n",
              "      </button>\n",
              "      \n",
              "  <style>\n",
              "    .colab-df-container {\n",
              "      display:flex;\n",
              "      flex-wrap:wrap;\n",
              "      gap: 12px;\n",
              "    }\n",
              "\n",
              "    .colab-df-convert {\n",
              "      background-color: #E8F0FE;\n",
              "      border: none;\n",
              "      border-radius: 50%;\n",
              "      cursor: pointer;\n",
              "      display: none;\n",
              "      fill: #1967D2;\n",
              "      height: 32px;\n",
              "      padding: 0 0 0 0;\n",
              "      width: 32px;\n",
              "    }\n",
              "\n",
              "    .colab-df-convert:hover {\n",
              "      background-color: #E2EBFA;\n",
              "      box-shadow: 0px 1px 2px rgba(60, 64, 67, 0.3), 0px 1px 3px 1px rgba(60, 64, 67, 0.15);\n",
              "      fill: #174EA6;\n",
              "    }\n",
              "\n",
              "    [theme=dark] .colab-df-convert {\n",
              "      background-color: #3B4455;\n",
              "      fill: #D2E3FC;\n",
              "    }\n",
              "\n",
              "    [theme=dark] .colab-df-convert:hover {\n",
              "      background-color: #434B5C;\n",
              "      box-shadow: 0px 1px 3px 1px rgba(0, 0, 0, 0.15);\n",
              "      filter: drop-shadow(0px 1px 2px rgba(0, 0, 0, 0.3));\n",
              "      fill: #FFFFFF;\n",
              "    }\n",
              "  </style>\n",
              "\n",
              "      <script>\n",
              "        const buttonEl =\n",
              "          document.querySelector('#df-6cf3a2fc-2e17-412b-9663-101dab170159 button.colab-df-convert');\n",
              "        buttonEl.style.display =\n",
              "          google.colab.kernel.accessAllowed ? 'block' : 'none';\n",
              "\n",
              "        async function convertToInteractive(key) {\n",
              "          const element = document.querySelector('#df-6cf3a2fc-2e17-412b-9663-101dab170159');\n",
              "          const dataTable =\n",
              "            await google.colab.kernel.invokeFunction('convertToInteractive',\n",
              "                                                     [key], {});\n",
              "          if (!dataTable) return;\n",
              "\n",
              "          const docLinkHtml = 'Like what you see? Visit the ' +\n",
              "            '<a target=\"_blank\" href=https://colab.research.google.com/notebooks/data_table.ipynb>data table notebook</a>'\n",
              "            + ' to learn more about interactive tables.';\n",
              "          element.innerHTML = '';\n",
              "          dataTable['output_type'] = 'display_data';\n",
              "          await google.colab.output.renderOutput(dataTable, element);\n",
              "          const docLink = document.createElement('div');\n",
              "          docLink.innerHTML = docLinkHtml;\n",
              "          element.appendChild(docLink);\n",
              "        }\n",
              "      </script>\n",
              "    </div>\n",
              "  </div>\n",
              "  "
            ]
          },
          "metadata": {},
          "execution_count": 13
        }
      ]
    },
    {
      "cell_type": "markdown",
      "source": [
        "**Criação do gráfico de energia total gerada nos EUA (2001-2022) em TWh.**"
      ],
      "metadata": {
        "id": "_oUjENo_TxDc"
      }
    },
    {
      "cell_type": "code",
      "source": [
        "dataset_2 = dataset_1['Fonte_de_Energia'] == 'Total'"
      ],
      "metadata": {
        "id": "6hRjKk4BVW5u"
      },
      "execution_count": 14,
      "outputs": []
    },
    {
      "cell_type": "markdown",
      "source": [
        "Primeiramente, preciso selecionar apenas as linhas em que a fonte de energia seja igual a \"Total\", ou seja, esteja somando todos os tipos de fonte energia."
      ],
      "metadata": {
        "id": "z3LL5eN8Wf0j"
      }
    },
    {
      "cell_type": "code",
      "source": [
        "dataset_3 = dataset_1['Estado'] == 'US-TOTAL'"
      ],
      "metadata": {
        "id": "bu_JzsJuVbek"
      },
      "execution_count": 15,
      "outputs": []
    },
    {
      "cell_type": "markdown",
      "source": [
        "O segundo passo será filtrar apenas os estados 'US-TOTAL' que representa a geração somada dos estados."
      ],
      "metadata": {
        "id": "NkCn07IvW5Gh"
      }
    },
    {
      "cell_type": "code",
      "source": [
        "dataset_4 = dataset_1[dataset_2 & dataset_3]"
      ],
      "metadata": {
        "id": "rCae-KUcVhLG"
      },
      "execution_count": 16,
      "outputs": []
    },
    {
      "cell_type": "code",
      "source": [
        "#Agrupar as colunas de Mês/ano com o estado para saber o valor gerado de energia.\n",
        "dataset_5 = dataset_4.groupby(['Mês/Ano', 'Estado'])['Geração(TWh)'].sum().reset_index()"
      ],
      "metadata": {
        "id": "jZ7gW-RvVkRj"
      },
      "execution_count": 17,
      "outputs": []
    },
    {
      "cell_type": "code",
      "source": [
        "dataset_5.head()"
      ],
      "metadata": {
        "colab": {
          "base_uri": "https://localhost:8080/",
          "height": 206
        },
        "id": "4xuTZ3ELVnHL",
        "outputId": "97b7fd38-7f8b-47b6-cbaa-e952877398bd"
      },
      "execution_count": 18,
      "outputs": [
        {
          "output_type": "execute_result",
          "data": {
            "text/plain": [
              "     Mês/Ano    Estado  Geração(TWh)\n",
              "0 2001-01-01  US-TOTAL    664.986320\n",
              "1 2001-02-01  US-TOTAL    565.880396\n",
              "2 2001-03-01  US-TOTAL    601.413088\n",
              "3 2001-04-01  US-TOTAL    556.157742\n",
              "4 2001-05-01  US-TOTAL    600.983242"
            ],
            "text/html": [
              "\n",
              "  <div id=\"df-65b57baa-0ba6-4977-9487-79f9242803fb\">\n",
              "    <div class=\"colab-df-container\">\n",
              "      <div>\n",
              "<style scoped>\n",
              "    .dataframe tbody tr th:only-of-type {\n",
              "        vertical-align: middle;\n",
              "    }\n",
              "\n",
              "    .dataframe tbody tr th {\n",
              "        vertical-align: top;\n",
              "    }\n",
              "\n",
              "    .dataframe thead th {\n",
              "        text-align: right;\n",
              "    }\n",
              "</style>\n",
              "<table border=\"1\" class=\"dataframe\">\n",
              "  <thead>\n",
              "    <tr style=\"text-align: right;\">\n",
              "      <th></th>\n",
              "      <th>Mês/Ano</th>\n",
              "      <th>Estado</th>\n",
              "      <th>Geração(TWh)</th>\n",
              "    </tr>\n",
              "  </thead>\n",
              "  <tbody>\n",
              "    <tr>\n",
              "      <th>0</th>\n",
              "      <td>2001-01-01</td>\n",
              "      <td>US-TOTAL</td>\n",
              "      <td>664.986320</td>\n",
              "    </tr>\n",
              "    <tr>\n",
              "      <th>1</th>\n",
              "      <td>2001-02-01</td>\n",
              "      <td>US-TOTAL</td>\n",
              "      <td>565.880396</td>\n",
              "    </tr>\n",
              "    <tr>\n",
              "      <th>2</th>\n",
              "      <td>2001-03-01</td>\n",
              "      <td>US-TOTAL</td>\n",
              "      <td>601.413088</td>\n",
              "    </tr>\n",
              "    <tr>\n",
              "      <th>3</th>\n",
              "      <td>2001-04-01</td>\n",
              "      <td>US-TOTAL</td>\n",
              "      <td>556.157742</td>\n",
              "    </tr>\n",
              "    <tr>\n",
              "      <th>4</th>\n",
              "      <td>2001-05-01</td>\n",
              "      <td>US-TOTAL</td>\n",
              "      <td>600.983242</td>\n",
              "    </tr>\n",
              "  </tbody>\n",
              "</table>\n",
              "</div>\n",
              "      <button class=\"colab-df-convert\" onclick=\"convertToInteractive('df-65b57baa-0ba6-4977-9487-79f9242803fb')\"\n",
              "              title=\"Convert this dataframe to an interactive table.\"\n",
              "              style=\"display:none;\">\n",
              "        \n",
              "  <svg xmlns=\"http://www.w3.org/2000/svg\" height=\"24px\"viewBox=\"0 0 24 24\"\n",
              "       width=\"24px\">\n",
              "    <path d=\"M0 0h24v24H0V0z\" fill=\"none\"/>\n",
              "    <path d=\"M18.56 5.44l.94 2.06.94-2.06 2.06-.94-2.06-.94-.94-2.06-.94 2.06-2.06.94zm-11 1L8.5 8.5l.94-2.06 2.06-.94-2.06-.94L8.5 2.5l-.94 2.06-2.06.94zm10 10l.94 2.06.94-2.06 2.06-.94-2.06-.94-.94-2.06-.94 2.06-2.06.94z\"/><path d=\"M17.41 7.96l-1.37-1.37c-.4-.4-.92-.59-1.43-.59-.52 0-1.04.2-1.43.59L10.3 9.45l-7.72 7.72c-.78.78-.78 2.05 0 2.83L4 21.41c.39.39.9.59 1.41.59.51 0 1.02-.2 1.41-.59l7.78-7.78 2.81-2.81c.8-.78.8-2.07 0-2.86zM5.41 20L4 18.59l7.72-7.72 1.47 1.35L5.41 20z\"/>\n",
              "  </svg>\n",
              "      </button>\n",
              "      \n",
              "  <style>\n",
              "    .colab-df-container {\n",
              "      display:flex;\n",
              "      flex-wrap:wrap;\n",
              "      gap: 12px;\n",
              "    }\n",
              "\n",
              "    .colab-df-convert {\n",
              "      background-color: #E8F0FE;\n",
              "      border: none;\n",
              "      border-radius: 50%;\n",
              "      cursor: pointer;\n",
              "      display: none;\n",
              "      fill: #1967D2;\n",
              "      height: 32px;\n",
              "      padding: 0 0 0 0;\n",
              "      width: 32px;\n",
              "    }\n",
              "\n",
              "    .colab-df-convert:hover {\n",
              "      background-color: #E2EBFA;\n",
              "      box-shadow: 0px 1px 2px rgba(60, 64, 67, 0.3), 0px 1px 3px 1px rgba(60, 64, 67, 0.15);\n",
              "      fill: #174EA6;\n",
              "    }\n",
              "\n",
              "    [theme=dark] .colab-df-convert {\n",
              "      background-color: #3B4455;\n",
              "      fill: #D2E3FC;\n",
              "    }\n",
              "\n",
              "    [theme=dark] .colab-df-convert:hover {\n",
              "      background-color: #434B5C;\n",
              "      box-shadow: 0px 1px 3px 1px rgba(0, 0, 0, 0.15);\n",
              "      filter: drop-shadow(0px 1px 2px rgba(0, 0, 0, 0.3));\n",
              "      fill: #FFFFFF;\n",
              "    }\n",
              "  </style>\n",
              "\n",
              "      <script>\n",
              "        const buttonEl =\n",
              "          document.querySelector('#df-65b57baa-0ba6-4977-9487-79f9242803fb button.colab-df-convert');\n",
              "        buttonEl.style.display =\n",
              "          google.colab.kernel.accessAllowed ? 'block' : 'none';\n",
              "\n",
              "        async function convertToInteractive(key) {\n",
              "          const element = document.querySelector('#df-65b57baa-0ba6-4977-9487-79f9242803fb');\n",
              "          const dataTable =\n",
              "            await google.colab.kernel.invokeFunction('convertToInteractive',\n",
              "                                                     [key], {});\n",
              "          if (!dataTable) return;\n",
              "\n",
              "          const docLinkHtml = 'Like what you see? Visit the ' +\n",
              "            '<a target=\"_blank\" href=https://colab.research.google.com/notebooks/data_table.ipynb>data table notebook</a>'\n",
              "            + ' to learn more about interactive tables.';\n",
              "          element.innerHTML = '';\n",
              "          dataTable['output_type'] = 'display_data';\n",
              "          await google.colab.output.renderOutput(dataTable, element);\n",
              "          const docLink = document.createElement('div');\n",
              "          docLink.innerHTML = docLinkHtml;\n",
              "          element.appendChild(docLink);\n",
              "        }\n",
              "      </script>\n",
              "    </div>\n",
              "  </div>\n",
              "  "
            ]
          },
          "metadata": {},
          "execution_count": 18
        }
      ]
    },
    {
      "cell_type": "code",
      "source": [
        "#Definindo a dimensão para a figura que será criada \n",
        "fig, ax = plt.subplots(figsize=(14,6))\n",
        "\n",
        "#O Loop for será usado para percorrer todos os dados\n",
        "for estado in dataset_5['Estado'].unique():\n",
        "    df_grafico = dataset_5[dataset_5['Estado'] == estado]\n",
        "    ax.plot(df_grafico['Mês/Ano'], df_grafico['Geração(TWh)'], label=estado)\n",
        "\n",
        "# Adicione legendas e títulos\n",
        "ax.legend()\n",
        "ax.set_xlabel('Mês/Ano')\n",
        "ax.set_ylabel('Energia_Gerada (TWh)')\n",
        "ax.set_title('Energia Gerada nos EUA (2001-2022)')\n",
        "\n",
        "# Define o limite inferior do eixo x como o primeiro valor obtido\n",
        "x_min = dataset_5['Mês/Ano'].min()\n",
        "x_max = dataset_5['Mês/Ano'].max()\n",
        "ax.set_xlim(left=x_min, right=x_max)\n",
        "\n",
        "plt.xticks(rotation=45)\n",
        "plt.subplots_adjust(bottom=0.05)"
      ],
      "metadata": {
        "colab": {
          "base_uri": "https://localhost:8080/",
          "height": 597
        },
        "id": "OHMd82PNbSMb",
        "outputId": "84aeff3a-00b3-4180-c25e-cb6949d82219"
      },
      "execution_count": 24,
      "outputs": [
        {
          "output_type": "display_data",
          "data": {
            "text/plain": [
              "<Figure size 1400x600 with 1 Axes>"
            ],
            "image/png": "[encoded data removed]"
          },
          "metadata": {}
        }
      ]
    }
  ]
}